{
 "cells": [
  {
   "cell_type": "code",
   "execution_count": 2,
   "metadata": {},
   "outputs": [],
   "source": [
    "import os\n",
    "import sys\n",
    "module_path = os.path.abspath(os.path.join('..'))\n",
    "if module_path not in sys.path:\n",
    "    sys.path.append(module_path)\n",
    "    \n",
    "import torch\n",
    "import torchvision\n",
    "from torch.utils.data import Dataset, DataLoader\n",
    "from torchvision import transforms\n",
    "import torch.optim as optim\n",
    "from instarecog.facenet import FaceNet, triplet_loss"
   ]
  },
  {
   "cell_type": "code",
   "execution_count": null,
   "metadata": {},
   "outputs": [],
   "source": [
    "# Define a transform to preprocess the images\n",
    "transform = transforms.Compose([\n",
    "    transforms.Resize((224, 224)),  # Resize the image to (224, 224)\n",
    "    transforms.ToTensor(),         # Convert the image to a PyTorch tensor\n",
    "    transforms.Normalize(          # Normalize the image\n",
    "        mean=[0.5, 0.5, 0.5],\n",
    "        std=[0.5, 0.5, 0.5]\n",
    "    )\n",
    "])\n",
    "\n",
    "# Load the LFW dataset\n",
    "lfw_dataset = torchvision.datasets.ImageFolder(root='lfw', transform=transform)\n",
    "\n",
    "# Define a DataLoader to load the dataset in batches\n",
    "batch_size = 64\n",
    "lfw_loader = DataLoader(lfw_dataset, batch_size=batch_size, shuffle=True)\n",
    "\n",
    "model = FaceNet()\n",
    "\n",
    "# Define the optimizer\n",
    "# You can use the Adam optimizer or another suitable optimizer for training the model\n",
    "\n",
    "learning_rate = 0.001\n",
    "optimizer = optim.Adam(model.parameters(), lr=learning_rate)"
   ]
  },
  {
   "cell_type": "code",
   "execution_count": null,
   "metadata": {},
   "outputs": [],
   "source": [
    "# Train the model\n",
    "for epoch in range(num_epochs):\n",
    "    for batch_idx, (data, labels) in enumerate(lfw_loader):\n",
    "        optimizer.zero_grad()\n",
    "        embeddings = model(data)\n",
    "        loss = loss_fn(embeddings, labels)\n",
    "        loss.backward()\n",
    "        optimizer.step()"
   ]
  }
 ],
 "metadata": {
  "kernelspec": {
   "display_name": "Python 3",
   "language": "python",
   "name": "python3"
  },
  "language_info": {
   "codemirror_mode": {
    "name": "ipython",
    "version": 3
   },
   "file_extension": ".py",
   "mimetype": "text/x-python",
   "name": "python",
   "nbconvert_exporter": "python",
   "pygments_lexer": "ipython3",
   "version": "3.11.0"
  },
  "orig_nbformat": 4,
  "vscode": {
   "interpreter": {
    "hash": "e165d103c7ddc889a7b50ca5a1b6f6513746d258b89eea93ecbf016fba9bf5f6"
   }
  }
 },
 "nbformat": 4,
 "nbformat_minor": 2
}
